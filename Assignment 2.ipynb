{
 "cells": [
  {
   "cell_type": "markdown",
   "metadata": {},
   "source": [
    "# Table contents\n",
    "### I. Introduction<br>\n",
    "1a. Prepare data<br>\n",
    "### II. Exploring the Data<br>\n",
    "2a. Statistical Overview<br>\n",
    "2b. Correlation Matrix & Heatmap<br>\n",
    "2c. Statistical Test for Correlation<br>\n",
    "2d. Distribution Plots (Satisfaction - Evaluation - Income)<br>\n",
    "2e. Department V.S. Attrition<br>\n",
    "2f. Overtime V.S. Attrition<br>\n",
    "2g. Evaluation vs Attrition<br>\n",
    "### III. Conclusion<br>\n",
    "### IV. References\n"
   ]
  },
  {
   "cell_type": "markdown",
   "metadata": {},
   "source": [
    "# I. Introduction\n",
    "Dữ liệu phân tích nhân sự IBM về độ hụt giảm (attrition) và khả năng làm việc trong công ty (performance)\n",
    "Ở phần báo cáo này, chúng ta sẽ tập trung vào những câu hỏi quan trọng:\n",
    "- Những nhân tố nào đang đóng vai trò trong tỷ lệ suy giảm?\n",
    "- Những nhân tố nào đang đóng vao trò trong tỷ lệ hài lòng?\n",
    "- Khi nào thì nhân viên bỏ đi?\n",
    "\n",
    "Để giải quyết các câu hỏi này, thì notebook này sẽ bao gồm phần khám phá dữ liệu, minh họa, lọc dữ liệu,phân tích trên t-test/ f-test và đưa ra kết luận."
   ]
  },
  {
   "cell_type": "markdown",
   "metadata": {},
   "source": [
    "# Prepare data\n",
    "**Import những libraries cần thiết và tải dữ liệu**"
   ]
  },
  {
   "cell_type": "code",
   "execution_count": 260,
   "metadata": {},
   "outputs": [],
   "source": [
    "import pandas as pd\n",
    "import numpy as np\n",
    "import matplotlib.pyplot as plt\n",
    "import matplotlib as matplot\n",
    "import seaborn as sns\n",
    "%matplotlib inline"
   ]
  },
  {
   "cell_type": "code",
   "execution_count": 261,
   "metadata": {},
   "outputs": [
    {
     "data": {
      "text/html": [
       "<div>\n",
       "<style scoped>\n",
       "    .dataframe tbody tr th:only-of-type {\n",
       "        vertical-align: middle;\n",
       "    }\n",
       "\n",
       "    .dataframe tbody tr th {\n",
       "        vertical-align: top;\n",
       "    }\n",
       "\n",
       "    .dataframe thead th {\n",
       "        text-align: right;\n",
       "    }\n",
       "</style>\n",
       "<table border=\"1\" class=\"dataframe\">\n",
       "  <thead>\n",
       "    <tr style=\"text-align: right;\">\n",
       "      <th></th>\n",
       "      <th>Age</th>\n",
       "      <th>Attrition</th>\n",
       "      <th>BusinessTravel</th>\n",
       "      <th>DailyRate</th>\n",
       "      <th>Department</th>\n",
       "      <th>DistanceFromHome</th>\n",
       "      <th>Education</th>\n",
       "      <th>EducationField</th>\n",
       "      <th>EmployeeCount</th>\n",
       "      <th>EmployeeNumber</th>\n",
       "      <th>...</th>\n",
       "      <th>RelationshipSatisfaction</th>\n",
       "      <th>StandardHours</th>\n",
       "      <th>StockOptionLevel</th>\n",
       "      <th>TotalWorkingYears</th>\n",
       "      <th>TrainingTimesLastYear</th>\n",
       "      <th>WorkLifeBalance</th>\n",
       "      <th>YearsAtCompany</th>\n",
       "      <th>YearsInCurrentRole</th>\n",
       "      <th>YearsSinceLastPromotion</th>\n",
       "      <th>YearsWithCurrManager</th>\n",
       "    </tr>\n",
       "  </thead>\n",
       "  <tbody>\n",
       "    <tr>\n",
       "      <th>0</th>\n",
       "      <td>41</td>\n",
       "      <td>Yes</td>\n",
       "      <td>Travel_Rarely</td>\n",
       "      <td>1102</td>\n",
       "      <td>Sales</td>\n",
       "      <td>1</td>\n",
       "      <td>2</td>\n",
       "      <td>Life Sciences</td>\n",
       "      <td>1</td>\n",
       "      <td>1</td>\n",
       "      <td>...</td>\n",
       "      <td>1</td>\n",
       "      <td>80</td>\n",
       "      <td>0</td>\n",
       "      <td>8</td>\n",
       "      <td>0</td>\n",
       "      <td>1</td>\n",
       "      <td>6</td>\n",
       "      <td>4</td>\n",
       "      <td>0</td>\n",
       "      <td>5</td>\n",
       "    </tr>\n",
       "    <tr>\n",
       "      <th>1</th>\n",
       "      <td>49</td>\n",
       "      <td>No</td>\n",
       "      <td>Travel_Frequently</td>\n",
       "      <td>279</td>\n",
       "      <td>Research &amp; Development</td>\n",
       "      <td>8</td>\n",
       "      <td>1</td>\n",
       "      <td>Life Sciences</td>\n",
       "      <td>1</td>\n",
       "      <td>2</td>\n",
       "      <td>...</td>\n",
       "      <td>4</td>\n",
       "      <td>80</td>\n",
       "      <td>1</td>\n",
       "      <td>10</td>\n",
       "      <td>3</td>\n",
       "      <td>3</td>\n",
       "      <td>10</td>\n",
       "      <td>7</td>\n",
       "      <td>1</td>\n",
       "      <td>7</td>\n",
       "    </tr>\n",
       "    <tr>\n",
       "      <th>2</th>\n",
       "      <td>37</td>\n",
       "      <td>Yes</td>\n",
       "      <td>Travel_Rarely</td>\n",
       "      <td>1373</td>\n",
       "      <td>Research &amp; Development</td>\n",
       "      <td>2</td>\n",
       "      <td>2</td>\n",
       "      <td>Other</td>\n",
       "      <td>1</td>\n",
       "      <td>4</td>\n",
       "      <td>...</td>\n",
       "      <td>2</td>\n",
       "      <td>80</td>\n",
       "      <td>0</td>\n",
       "      <td>7</td>\n",
       "      <td>3</td>\n",
       "      <td>3</td>\n",
       "      <td>0</td>\n",
       "      <td>0</td>\n",
       "      <td>0</td>\n",
       "      <td>0</td>\n",
       "    </tr>\n",
       "    <tr>\n",
       "      <th>3</th>\n",
       "      <td>33</td>\n",
       "      <td>No</td>\n",
       "      <td>Travel_Frequently</td>\n",
       "      <td>1392</td>\n",
       "      <td>Research &amp; Development</td>\n",
       "      <td>3</td>\n",
       "      <td>4</td>\n",
       "      <td>Life Sciences</td>\n",
       "      <td>1</td>\n",
       "      <td>5</td>\n",
       "      <td>...</td>\n",
       "      <td>3</td>\n",
       "      <td>80</td>\n",
       "      <td>0</td>\n",
       "      <td>8</td>\n",
       "      <td>3</td>\n",
       "      <td>3</td>\n",
       "      <td>8</td>\n",
       "      <td>7</td>\n",
       "      <td>3</td>\n",
       "      <td>0</td>\n",
       "    </tr>\n",
       "    <tr>\n",
       "      <th>4</th>\n",
       "      <td>27</td>\n",
       "      <td>No</td>\n",
       "      <td>Travel_Rarely</td>\n",
       "      <td>591</td>\n",
       "      <td>Research &amp; Development</td>\n",
       "      <td>2</td>\n",
       "      <td>1</td>\n",
       "      <td>Medical</td>\n",
       "      <td>1</td>\n",
       "      <td>7</td>\n",
       "      <td>...</td>\n",
       "      <td>4</td>\n",
       "      <td>80</td>\n",
       "      <td>1</td>\n",
       "      <td>6</td>\n",
       "      <td>3</td>\n",
       "      <td>3</td>\n",
       "      <td>2</td>\n",
       "      <td>2</td>\n",
       "      <td>2</td>\n",
       "      <td>2</td>\n",
       "    </tr>\n",
       "  </tbody>\n",
       "</table>\n",
       "<p>5 rows × 35 columns</p>\n",
       "</div>"
      ],
      "text/plain": [
       "   Age Attrition     BusinessTravel  DailyRate              Department  \\\n",
       "0   41       Yes      Travel_Rarely       1102                   Sales   \n",
       "1   49        No  Travel_Frequently        279  Research & Development   \n",
       "2   37       Yes      Travel_Rarely       1373  Research & Development   \n",
       "3   33        No  Travel_Frequently       1392  Research & Development   \n",
       "4   27        No      Travel_Rarely        591  Research & Development   \n",
       "\n",
       "   DistanceFromHome  Education EducationField  EmployeeCount  EmployeeNumber  \\\n",
       "0                 1          2  Life Sciences              1               1   \n",
       "1                 8          1  Life Sciences              1               2   \n",
       "2                 2          2          Other              1               4   \n",
       "3                 3          4  Life Sciences              1               5   \n",
       "4                 2          1        Medical              1               7   \n",
       "\n",
       "   ...  RelationshipSatisfaction StandardHours  StockOptionLevel  \\\n",
       "0  ...                         1            80                 0   \n",
       "1  ...                         4            80                 1   \n",
       "2  ...                         2            80                 0   \n",
       "3  ...                         3            80                 0   \n",
       "4  ...                         4            80                 1   \n",
       "\n",
       "   TotalWorkingYears  TrainingTimesLastYear WorkLifeBalance  YearsAtCompany  \\\n",
       "0                  8                      0               1               6   \n",
       "1                 10                      3               3              10   \n",
       "2                  7                      3               3               0   \n",
       "3                  8                      3               3               8   \n",
       "4                  6                      3               3               2   \n",
       "\n",
       "  YearsInCurrentRole  YearsSinceLastPromotion  YearsWithCurrManager  \n",
       "0                  4                        0                     5  \n",
       "1                  7                        1                     7  \n",
       "2                  0                        0                     0  \n",
       "3                  7                        3                     0  \n",
       "4                  2                        2                     2  \n",
       "\n",
       "[5 rows x 35 columns]"
      ]
     },
     "execution_count": 261,
     "metadata": {},
     "output_type": "execute_result"
    }
   ],
   "source": [
    "df = pd.read_csv(\"WA_Fn-UseC_-HR-Employee-Attrition.csv\")\n",
    "df.head()"
   ]
  },
  {
   "cell_type": "code",
   "execution_count": 262,
   "metadata": {},
   "outputs": [
    {
     "data": {
      "text/plain": [
       "Age                         0\n",
       "Attrition                   0\n",
       "BusinessTravel              0\n",
       "DailyRate                   0\n",
       "Department                  0\n",
       "DistanceFromHome            0\n",
       "Education                   0\n",
       "EducationField              0\n",
       "EmployeeCount               0\n",
       "EmployeeNumber              0\n",
       "EnvironmentSatisfaction     0\n",
       "Gender                      0\n",
       "HourlyRate                  0\n",
       "JobInvolvement              0\n",
       "JobLevel                    0\n",
       "JobRole                     0\n",
       "JobSatisfaction             0\n",
       "MaritalStatus               0\n",
       "MonthlyIncome               0\n",
       "MonthlyRate                 0\n",
       "NumCompaniesWorked          0\n",
       "Over18                      0\n",
       "OverTime                    0\n",
       "PercentSalaryHike           0\n",
       "PerformanceRating           0\n",
       "RelationshipSatisfaction    0\n",
       "StandardHours               0\n",
       "StockOptionLevel            0\n",
       "TotalWorkingYears           0\n",
       "TrainingTimesLastYear       0\n",
       "WorkLifeBalance             0\n",
       "YearsAtCompany              0\n",
       "YearsInCurrentRole          0\n",
       "YearsSinceLastPromotion     0\n",
       "YearsWithCurrManager        0\n",
       "dtype: int64"
      ]
     },
     "execution_count": 262,
     "metadata": {},
     "output_type": "execute_result"
    }
   ],
   "source": [
    "# Check to see if there are any missing values in our data set\n",
    "df.isnull().sum()"
   ]
  },
  {
   "cell_type": "markdown",
   "metadata": {},
   "source": [
    "Dữ liệu không có missing value"
   ]
  },
  {
   "cell_type": "code",
   "execution_count": 263,
   "metadata": {},
   "outputs": [],
   "source": [
    "# Renaming certain columns for better readability\n",
    "df = df.rename(columns={\"DistanceFromHome\" : \"Distance\",\n",
    "                       \"MonthlyIncome\": \"Income\",\n",
    "                       \"PerformanceRating\":\"Evaluation\",\n",
    "                       \"JobSatisfaction\" : \"Satisfaction\"})"
   ]
  },
  {
   "cell_type": "code",
   "execution_count": 264,
   "metadata": {},
   "outputs": [
    {
     "data": {
      "text/html": [
       "<div>\n",
       "<style scoped>\n",
       "    .dataframe tbody tr th:only-of-type {\n",
       "        vertical-align: middle;\n",
       "    }\n",
       "\n",
       "    .dataframe tbody tr th {\n",
       "        vertical-align: top;\n",
       "    }\n",
       "\n",
       "    .dataframe thead th {\n",
       "        text-align: right;\n",
       "    }\n",
       "</style>\n",
       "<table border=\"1\" class=\"dataframe\">\n",
       "  <thead>\n",
       "    <tr style=\"text-align: right;\">\n",
       "      <th></th>\n",
       "      <th>Attrition</th>\n",
       "      <th>Satisfaction</th>\n",
       "      <th>Age</th>\n",
       "      <th>BusinessTravel</th>\n",
       "      <th>DailyRate</th>\n",
       "      <th>Department</th>\n",
       "      <th>Distance</th>\n",
       "      <th>Education</th>\n",
       "      <th>EducationField</th>\n",
       "      <th>EmployeeCount</th>\n",
       "      <th>...</th>\n",
       "      <th>RelationshipSatisfaction</th>\n",
       "      <th>StandardHours</th>\n",
       "      <th>StockOptionLevel</th>\n",
       "      <th>TotalWorkingYears</th>\n",
       "      <th>TrainingTimesLastYear</th>\n",
       "      <th>WorkLifeBalance</th>\n",
       "      <th>YearsAtCompany</th>\n",
       "      <th>YearsInCurrentRole</th>\n",
       "      <th>YearsSinceLastPromotion</th>\n",
       "      <th>YearsWithCurrManager</th>\n",
       "    </tr>\n",
       "  </thead>\n",
       "  <tbody>\n",
       "    <tr>\n",
       "      <th>0</th>\n",
       "      <td>Yes</td>\n",
       "      <td>4</td>\n",
       "      <td>41</td>\n",
       "      <td>Travel_Rarely</td>\n",
       "      <td>1102</td>\n",
       "      <td>Sales</td>\n",
       "      <td>1</td>\n",
       "      <td>2</td>\n",
       "      <td>Life Sciences</td>\n",
       "      <td>1</td>\n",
       "      <td>...</td>\n",
       "      <td>1</td>\n",
       "      <td>80</td>\n",
       "      <td>0</td>\n",
       "      <td>8</td>\n",
       "      <td>0</td>\n",
       "      <td>1</td>\n",
       "      <td>6</td>\n",
       "      <td>4</td>\n",
       "      <td>0</td>\n",
       "      <td>5</td>\n",
       "    </tr>\n",
       "    <tr>\n",
       "      <th>1</th>\n",
       "      <td>No</td>\n",
       "      <td>2</td>\n",
       "      <td>49</td>\n",
       "      <td>Travel_Frequently</td>\n",
       "      <td>279</td>\n",
       "      <td>Research &amp; Development</td>\n",
       "      <td>8</td>\n",
       "      <td>1</td>\n",
       "      <td>Life Sciences</td>\n",
       "      <td>1</td>\n",
       "      <td>...</td>\n",
       "      <td>4</td>\n",
       "      <td>80</td>\n",
       "      <td>1</td>\n",
       "      <td>10</td>\n",
       "      <td>3</td>\n",
       "      <td>3</td>\n",
       "      <td>10</td>\n",
       "      <td>7</td>\n",
       "      <td>1</td>\n",
       "      <td>7</td>\n",
       "    </tr>\n",
       "    <tr>\n",
       "      <th>2</th>\n",
       "      <td>Yes</td>\n",
       "      <td>3</td>\n",
       "      <td>37</td>\n",
       "      <td>Travel_Rarely</td>\n",
       "      <td>1373</td>\n",
       "      <td>Research &amp; Development</td>\n",
       "      <td>2</td>\n",
       "      <td>2</td>\n",
       "      <td>Other</td>\n",
       "      <td>1</td>\n",
       "      <td>...</td>\n",
       "      <td>2</td>\n",
       "      <td>80</td>\n",
       "      <td>0</td>\n",
       "      <td>7</td>\n",
       "      <td>3</td>\n",
       "      <td>3</td>\n",
       "      <td>0</td>\n",
       "      <td>0</td>\n",
       "      <td>0</td>\n",
       "      <td>0</td>\n",
       "    </tr>\n",
       "    <tr>\n",
       "      <th>3</th>\n",
       "      <td>No</td>\n",
       "      <td>3</td>\n",
       "      <td>33</td>\n",
       "      <td>Travel_Frequently</td>\n",
       "      <td>1392</td>\n",
       "      <td>Research &amp; Development</td>\n",
       "      <td>3</td>\n",
       "      <td>4</td>\n",
       "      <td>Life Sciences</td>\n",
       "      <td>1</td>\n",
       "      <td>...</td>\n",
       "      <td>3</td>\n",
       "      <td>80</td>\n",
       "      <td>0</td>\n",
       "      <td>8</td>\n",
       "      <td>3</td>\n",
       "      <td>3</td>\n",
       "      <td>8</td>\n",
       "      <td>7</td>\n",
       "      <td>3</td>\n",
       "      <td>0</td>\n",
       "    </tr>\n",
       "    <tr>\n",
       "      <th>4</th>\n",
       "      <td>No</td>\n",
       "      <td>2</td>\n",
       "      <td>27</td>\n",
       "      <td>Travel_Rarely</td>\n",
       "      <td>591</td>\n",
       "      <td>Research &amp; Development</td>\n",
       "      <td>2</td>\n",
       "      <td>1</td>\n",
       "      <td>Medical</td>\n",
       "      <td>1</td>\n",
       "      <td>...</td>\n",
       "      <td>4</td>\n",
       "      <td>80</td>\n",
       "      <td>1</td>\n",
       "      <td>6</td>\n",
       "      <td>3</td>\n",
       "      <td>3</td>\n",
       "      <td>2</td>\n",
       "      <td>2</td>\n",
       "      <td>2</td>\n",
       "      <td>2</td>\n",
       "    </tr>\n",
       "  </tbody>\n",
       "</table>\n",
       "<p>5 rows × 35 columns</p>\n",
       "</div>"
      ],
      "text/plain": [
       "  Attrition  Satisfaction  Age     BusinessTravel  DailyRate  \\\n",
       "0       Yes             4   41      Travel_Rarely       1102   \n",
       "1        No             2   49  Travel_Frequently        279   \n",
       "2       Yes             3   37      Travel_Rarely       1373   \n",
       "3        No             3   33  Travel_Frequently       1392   \n",
       "4        No             2   27      Travel_Rarely        591   \n",
       "\n",
       "               Department  Distance  Education EducationField  EmployeeCount  \\\n",
       "0                   Sales         1          2  Life Sciences              1   \n",
       "1  Research & Development         8          1  Life Sciences              1   \n",
       "2  Research & Development         2          2          Other              1   \n",
       "3  Research & Development         3          4  Life Sciences              1   \n",
       "4  Research & Development         2          1        Medical              1   \n",
       "\n",
       "   ...  RelationshipSatisfaction  StandardHours StockOptionLevel  \\\n",
       "0  ...                         1             80                0   \n",
       "1  ...                         4             80                1   \n",
       "2  ...                         2             80                0   \n",
       "3  ...                         3             80                0   \n",
       "4  ...                         4             80                1   \n",
       "\n",
       "   TotalWorkingYears  TrainingTimesLastYear  WorkLifeBalance YearsAtCompany  \\\n",
       "0                  8                      0                1              6   \n",
       "1                 10                      3                3             10   \n",
       "2                  7                      3                3              0   \n",
       "3                  8                      3                3              8   \n",
       "4                  6                      3                3              2   \n",
       "\n",
       "  YearsInCurrentRole  YearsSinceLastPromotion  YearsWithCurrManager  \n",
       "0                  4                        0                     5  \n",
       "1                  7                        1                     7  \n",
       "2                  0                        0                     0  \n",
       "3                  7                        3                     0  \n",
       "4                  2                        2                     2  \n",
       "\n",
       "[5 rows x 35 columns]"
      ]
     },
     "execution_count": 264,
     "metadata": {},
     "output_type": "execute_result"
    }
   ],
   "source": [
    "# Move the reponse variable \"Attrition\" and \"Satisfaction\" to the front of the table\n",
    "first = df['Attrition']\n",
    "second = df[\"Satisfaction\"]\n",
    "df.drop(labels=['Attrition'], axis=1,inplace = True)\n",
    "df.drop(labels=['Satisfaction'], axis=1,inplace = True)\n",
    "df.insert(0, 'Attrition', first)\n",
    "df.insert(1, 'Satisfaction', second)\n",
    "df.head()"
   ]
  },
  {
   "cell_type": "code",
   "execution_count": 265,
   "metadata": {},
   "outputs": [
    {
     "data": {
      "text/plain": [
       "count     1470\n",
       "unique       2\n",
       "top         No\n",
       "freq      1233\n",
       "Name: Attrition, dtype: object"
      ]
     },
     "execution_count": 265,
     "metadata": {},
     "output_type": "execute_result"
    }
   ],
   "source": [
    "df['Attrition'].describe()"
   ]
  },
  {
   "cell_type": "code",
   "execution_count": 266,
   "metadata": {},
   "outputs": [
    {
     "data": {
      "text/html": [
       "<div>\n",
       "<style scoped>\n",
       "    .dataframe tbody tr th:only-of-type {\n",
       "        vertical-align: middle;\n",
       "    }\n",
       "\n",
       "    .dataframe tbody tr th {\n",
       "        vertical-align: top;\n",
       "    }\n",
       "\n",
       "    .dataframe thead th {\n",
       "        text-align: right;\n",
       "    }\n",
       "</style>\n",
       "<table border=\"1\" class=\"dataframe\">\n",
       "  <thead>\n",
       "    <tr style=\"text-align: right;\">\n",
       "      <th></th>\n",
       "      <th>Attrition</th>\n",
       "      <th>Satisfaction</th>\n",
       "      <th>Age</th>\n",
       "      <th>BusinessTravel</th>\n",
       "      <th>DailyRate</th>\n",
       "      <th>Department</th>\n",
       "      <th>Distance</th>\n",
       "      <th>Education</th>\n",
       "      <th>EducationField</th>\n",
       "      <th>EmployeeCount</th>\n",
       "      <th>...</th>\n",
       "      <th>RelationshipSatisfaction</th>\n",
       "      <th>StandardHours</th>\n",
       "      <th>StockOptionLevel</th>\n",
       "      <th>TotalWorkingYears</th>\n",
       "      <th>TrainingTimesLastYear</th>\n",
       "      <th>WorkLifeBalance</th>\n",
       "      <th>YearsAtCompany</th>\n",
       "      <th>YearsInCurrentRole</th>\n",
       "      <th>YearsSinceLastPromotion</th>\n",
       "      <th>YearsWithCurrManager</th>\n",
       "    </tr>\n",
       "  </thead>\n",
       "  <tbody>\n",
       "    <tr>\n",
       "      <th>0</th>\n",
       "      <td>1</td>\n",
       "      <td>4</td>\n",
       "      <td>41</td>\n",
       "      <td>Travel_Rarely</td>\n",
       "      <td>1102</td>\n",
       "      <td>Sales</td>\n",
       "      <td>1</td>\n",
       "      <td>2</td>\n",
       "      <td>Life Sciences</td>\n",
       "      <td>1</td>\n",
       "      <td>...</td>\n",
       "      <td>1</td>\n",
       "      <td>80</td>\n",
       "      <td>0</td>\n",
       "      <td>8</td>\n",
       "      <td>0</td>\n",
       "      <td>1</td>\n",
       "      <td>6</td>\n",
       "      <td>4</td>\n",
       "      <td>0</td>\n",
       "      <td>5</td>\n",
       "    </tr>\n",
       "    <tr>\n",
       "      <th>1</th>\n",
       "      <td>0</td>\n",
       "      <td>2</td>\n",
       "      <td>49</td>\n",
       "      <td>Travel_Frequently</td>\n",
       "      <td>279</td>\n",
       "      <td>Research &amp; Development</td>\n",
       "      <td>8</td>\n",
       "      <td>1</td>\n",
       "      <td>Life Sciences</td>\n",
       "      <td>1</td>\n",
       "      <td>...</td>\n",
       "      <td>4</td>\n",
       "      <td>80</td>\n",
       "      <td>1</td>\n",
       "      <td>10</td>\n",
       "      <td>3</td>\n",
       "      <td>3</td>\n",
       "      <td>10</td>\n",
       "      <td>7</td>\n",
       "      <td>1</td>\n",
       "      <td>7</td>\n",
       "    </tr>\n",
       "    <tr>\n",
       "      <th>2</th>\n",
       "      <td>1</td>\n",
       "      <td>3</td>\n",
       "      <td>37</td>\n",
       "      <td>Travel_Rarely</td>\n",
       "      <td>1373</td>\n",
       "      <td>Research &amp; Development</td>\n",
       "      <td>2</td>\n",
       "      <td>2</td>\n",
       "      <td>Other</td>\n",
       "      <td>1</td>\n",
       "      <td>...</td>\n",
       "      <td>2</td>\n",
       "      <td>80</td>\n",
       "      <td>0</td>\n",
       "      <td>7</td>\n",
       "      <td>3</td>\n",
       "      <td>3</td>\n",
       "      <td>0</td>\n",
       "      <td>0</td>\n",
       "      <td>0</td>\n",
       "      <td>0</td>\n",
       "    </tr>\n",
       "  </tbody>\n",
       "</table>\n",
       "<p>3 rows × 35 columns</p>\n",
       "</div>"
      ],
      "text/plain": [
       "   Attrition  Satisfaction  Age     BusinessTravel  DailyRate  \\\n",
       "0          1             4   41      Travel_Rarely       1102   \n",
       "1          0             2   49  Travel_Frequently        279   \n",
       "2          1             3   37      Travel_Rarely       1373   \n",
       "\n",
       "               Department  Distance  Education EducationField  EmployeeCount  \\\n",
       "0                   Sales         1          2  Life Sciences              1   \n",
       "1  Research & Development         8          1  Life Sciences              1   \n",
       "2  Research & Development         2          2          Other              1   \n",
       "\n",
       "   ...  RelationshipSatisfaction  StandardHours StockOptionLevel  \\\n",
       "0  ...                         1             80                0   \n",
       "1  ...                         4             80                1   \n",
       "2  ...                         2             80                0   \n",
       "\n",
       "   TotalWorkingYears  TrainingTimesLastYear  WorkLifeBalance YearsAtCompany  \\\n",
       "0                  8                      0                1              6   \n",
       "1                 10                      3                3             10   \n",
       "2                  7                      3                3              0   \n",
       "\n",
       "  YearsInCurrentRole  YearsSinceLastPromotion  YearsWithCurrManager  \n",
       "0                  4                        0                     5  \n",
       "1                  7                        1                     7  \n",
       "2                  0                        0                     0  \n",
       "\n",
       "[3 rows x 35 columns]"
      ]
     },
     "execution_count": 266,
     "metadata": {},
     "output_type": "execute_result"
    }
   ],
   "source": [
    "# Define a dictionary for the target mapping\n",
    "target_map = {'Yes':1, 'No':0}\n",
    "# Use the pandas apply method to numerically encode our attrition target variable\n",
    "df[\"Attrition\"] = df[\"Attrition\"].apply(lambda x: target_map[x])\n",
    "df.head(3)"
   ]
  },
  {
   "cell_type": "markdown",
   "metadata": {},
   "source": [
    "# II. Exploring the Data"
   ]
  },
  {
   "cell_type": "markdown",
   "metadata": {},
   "source": [
    "**2a Statistical Overview**"
   ]
  },
  {
   "cell_type": "code",
   "execution_count": 267,
   "metadata": {},
   "outputs": [
    {
     "data": {
      "text/plain": [
       "(1470, 35)"
      ]
     },
     "execution_count": 267,
     "metadata": {},
     "output_type": "execute_result"
    }
   ],
   "source": [
    "# The dataset contains 35 columns and 1470 observations\n",
    "df.shape"
   ]
  },
  {
   "cell_type": "code",
   "execution_count": 268,
   "metadata": {},
   "outputs": [
    {
     "data": {
      "text/plain": [
       "0    0.838776\n",
       "1    0.161224\n",
       "Name: Attrition, dtype: float64"
      ]
     },
     "execution_count": 268,
     "metadata": {},
     "output_type": "execute_result"
    }
   ],
   "source": [
    "# Looks like about 83.9% of employees stayed and 16.1% of employees left. \n",
    "# NOTE: When performing cross validation, its important to maintain this turnover ratio\n",
    "attrition_rate = df[\"Attrition\"].value_counts() / len(df)\n",
    "attrition_rate"
   ]
  },
  {
   "cell_type": "markdown",
   "metadata": {},
   "source": [
    "Tỷ lệ nhân viên ra đi là 16.1%"
   ]
  },
  {
   "cell_type": "markdown",
   "metadata": {},
   "source": [
    "Theo cảm quan ta chọn ra một số features có thể ảnh hưởng đến Attrition và Satisfaction\n",
    "\n",
    "- Age (tuổi)\n",
    "- Distance (khoảng đường đi từ nhà đến chỗ làm)\n",
    "- Gender (giới tính)\n",
    "- Income (lương tháng)\n",
    "- Evaluation (đánh giá hiệu quả làm việc)\n",
    "- OverTime (làm quá giờ)\n",
    "- YearsAtCompany(số năm làm việc tại công ty)\n",
    "- Department (nhóm ngành)"
   ]
  },
  {
   "cell_type": "code",
   "execution_count": 269,
   "metadata": {},
   "outputs": [],
   "source": [
    "new_df = df[[\"Attrition\", \"Satisfaction\",\"Age\",\"Distance\",\"Gender\", \"Income\",\\\n",
    "            \"Evaluation\", \"OverTime\", \"YearsAtCompany\", \"Department\" ]]"
   ]
  },
  {
   "cell_type": "code",
   "execution_count": 270,
   "metadata": {},
   "outputs": [
    {
     "data": {
      "text/html": [
       "<div>\n",
       "<style scoped>\n",
       "    .dataframe tbody tr th:only-of-type {\n",
       "        vertical-align: middle;\n",
       "    }\n",
       "\n",
       "    .dataframe tbody tr th {\n",
       "        vertical-align: top;\n",
       "    }\n",
       "\n",
       "    .dataframe thead th {\n",
       "        text-align: right;\n",
       "    }\n",
       "</style>\n",
       "<table border=\"1\" class=\"dataframe\">\n",
       "  <thead>\n",
       "    <tr style=\"text-align: right;\">\n",
       "      <th></th>\n",
       "      <th>Attrition</th>\n",
       "      <th>Satisfaction</th>\n",
       "      <th>Age</th>\n",
       "      <th>Distance</th>\n",
       "      <th>Income</th>\n",
       "      <th>Evaluation</th>\n",
       "      <th>YearsAtCompany</th>\n",
       "    </tr>\n",
       "  </thead>\n",
       "  <tbody>\n",
       "    <tr>\n",
       "      <th>count</th>\n",
       "      <td>1470.000000</td>\n",
       "      <td>1470.000000</td>\n",
       "      <td>1470.000000</td>\n",
       "      <td>1470.000000</td>\n",
       "      <td>1470.000000</td>\n",
       "      <td>1470.000000</td>\n",
       "      <td>1470.000000</td>\n",
       "    </tr>\n",
       "    <tr>\n",
       "      <th>mean</th>\n",
       "      <td>0.161224</td>\n",
       "      <td>2.728571</td>\n",
       "      <td>36.923810</td>\n",
       "      <td>9.192517</td>\n",
       "      <td>6502.931293</td>\n",
       "      <td>3.153741</td>\n",
       "      <td>7.008163</td>\n",
       "    </tr>\n",
       "    <tr>\n",
       "      <th>std</th>\n",
       "      <td>0.367863</td>\n",
       "      <td>1.102846</td>\n",
       "      <td>9.135373</td>\n",
       "      <td>8.106864</td>\n",
       "      <td>4707.956783</td>\n",
       "      <td>0.360824</td>\n",
       "      <td>6.126525</td>\n",
       "    </tr>\n",
       "    <tr>\n",
       "      <th>min</th>\n",
       "      <td>0.000000</td>\n",
       "      <td>1.000000</td>\n",
       "      <td>18.000000</td>\n",
       "      <td>1.000000</td>\n",
       "      <td>1009.000000</td>\n",
       "      <td>3.000000</td>\n",
       "      <td>0.000000</td>\n",
       "    </tr>\n",
       "    <tr>\n",
       "      <th>25%</th>\n",
       "      <td>0.000000</td>\n",
       "      <td>2.000000</td>\n",
       "      <td>30.000000</td>\n",
       "      <td>2.000000</td>\n",
       "      <td>2911.000000</td>\n",
       "      <td>3.000000</td>\n",
       "      <td>3.000000</td>\n",
       "    </tr>\n",
       "    <tr>\n",
       "      <th>50%</th>\n",
       "      <td>0.000000</td>\n",
       "      <td>3.000000</td>\n",
       "      <td>36.000000</td>\n",
       "      <td>7.000000</td>\n",
       "      <td>4919.000000</td>\n",
       "      <td>3.000000</td>\n",
       "      <td>5.000000</td>\n",
       "    </tr>\n",
       "    <tr>\n",
       "      <th>75%</th>\n",
       "      <td>0.000000</td>\n",
       "      <td>4.000000</td>\n",
       "      <td>43.000000</td>\n",
       "      <td>14.000000</td>\n",
       "      <td>8379.000000</td>\n",
       "      <td>3.000000</td>\n",
       "      <td>9.000000</td>\n",
       "    </tr>\n",
       "    <tr>\n",
       "      <th>max</th>\n",
       "      <td>1.000000</td>\n",
       "      <td>4.000000</td>\n",
       "      <td>60.000000</td>\n",
       "      <td>29.000000</td>\n",
       "      <td>19999.000000</td>\n",
       "      <td>4.000000</td>\n",
       "      <td>40.000000</td>\n",
       "    </tr>\n",
       "  </tbody>\n",
       "</table>\n",
       "</div>"
      ],
      "text/plain": [
       "         Attrition  Satisfaction          Age     Distance        Income  \\\n",
       "count  1470.000000   1470.000000  1470.000000  1470.000000   1470.000000   \n",
       "mean      0.161224      2.728571    36.923810     9.192517   6502.931293   \n",
       "std       0.367863      1.102846     9.135373     8.106864   4707.956783   \n",
       "min       0.000000      1.000000    18.000000     1.000000   1009.000000   \n",
       "25%       0.000000      2.000000    30.000000     2.000000   2911.000000   \n",
       "50%       0.000000      3.000000    36.000000     7.000000   4919.000000   \n",
       "75%       0.000000      4.000000    43.000000    14.000000   8379.000000   \n",
       "max       1.000000      4.000000    60.000000    29.000000  19999.000000   \n",
       "\n",
       "        Evaluation  YearsAtCompany  \n",
       "count  1470.000000     1470.000000  \n",
       "mean      3.153741        7.008163  \n",
       "std       0.360824        6.126525  \n",
       "min       3.000000        0.000000  \n",
       "25%       3.000000        3.000000  \n",
       "50%       3.000000        5.000000  \n",
       "75%       3.000000        9.000000  \n",
       "max       4.000000       40.000000  "
      ]
     },
     "execution_count": 270,
     "metadata": {},
     "output_type": "execute_result"
    }
   ],
   "source": [
    "# Display the statistical overview of the employees\n",
    "new_df.describe()"
   ]
  },
  {
   "cell_type": "markdown",
   "metadata": {},
   "source": [
    "Độ thỏa mãn trung bình của nhân viên là **2.73** (chấm theo thang từ 1 đến 4, trong đó 1 là low và 4 là very high)"
   ]
  },
  {
   "cell_type": "code",
   "execution_count": 271,
   "metadata": {},
   "outputs": [
    {
     "data": {
      "text/html": [
       "<div>\n",
       "<style scoped>\n",
       "    .dataframe tbody tr th:only-of-type {\n",
       "        vertical-align: middle;\n",
       "    }\n",
       "\n",
       "    .dataframe tbody tr th {\n",
       "        vertical-align: top;\n",
       "    }\n",
       "\n",
       "    .dataframe thead th {\n",
       "        text-align: right;\n",
       "    }\n",
       "</style>\n",
       "<table border=\"1\" class=\"dataframe\">\n",
       "  <thead>\n",
       "    <tr style=\"text-align: right;\">\n",
       "      <th></th>\n",
       "      <th>Satisfaction</th>\n",
       "      <th>Age</th>\n",
       "      <th>Distance</th>\n",
       "      <th>Income</th>\n",
       "      <th>Evaluation</th>\n",
       "      <th>YearsAtCompany</th>\n",
       "    </tr>\n",
       "    <tr>\n",
       "      <th>Attrition</th>\n",
       "      <th></th>\n",
       "      <th></th>\n",
       "      <th></th>\n",
       "      <th></th>\n",
       "      <th></th>\n",
       "      <th></th>\n",
       "    </tr>\n",
       "  </thead>\n",
       "  <tbody>\n",
       "    <tr>\n",
       "      <th>0</th>\n",
       "      <td>2.778589</td>\n",
       "      <td>37.561233</td>\n",
       "      <td>8.915653</td>\n",
       "      <td>6832.739659</td>\n",
       "      <td>3.153285</td>\n",
       "      <td>7.369019</td>\n",
       "    </tr>\n",
       "    <tr>\n",
       "      <th>1</th>\n",
       "      <td>2.468354</td>\n",
       "      <td>33.607595</td>\n",
       "      <td>10.632911</td>\n",
       "      <td>4787.092827</td>\n",
       "      <td>3.156118</td>\n",
       "      <td>5.130802</td>\n",
       "    </tr>\n",
       "  </tbody>\n",
       "</table>\n",
       "</div>"
      ],
      "text/plain": [
       "           Satisfaction        Age   Distance       Income  Evaluation  \\\n",
       "Attrition                                                                \n",
       "0              2.778589  37.561233   8.915653  6832.739659    3.153285   \n",
       "1              2.468354  33.607595  10.632911  4787.092827    3.156118   \n",
       "\n",
       "           YearsAtCompany  \n",
       "Attrition                  \n",
       "0                7.369019  \n",
       "1                5.130802  "
      ]
     },
     "execution_count": 271,
     "metadata": {},
     "output_type": "execute_result"
    }
   ],
   "source": [
    "# Overview of summary (Attrition V.S. Non-attrition)\n",
    "attrition_Summary = new_df.groupby('Attrition')\n",
    "attrition_Summary.mean()"
   ]
  },
  {
   "cell_type": "markdown",
   "metadata": {},
   "source": [
    "Sau khi đánh giá sơ bộ về những người mang độ hụt giảm (attrition = Yes) và những người không có (attrition = No). Ta nhận thấy:\n",
    "- Độ thỏa mãn về công việc của người ở lại cao hơn người ra đi.\n",
    "- Những người ra đi quãng đường từ nhà đến chỗ làm xa hơn.\n",
    "- Những người ra đi nhận mức lương (tháng) thấp hơn."
   ]
  },
  {
   "cell_type": "markdown",
   "metadata": {},
   "source": [
    "**2b. Correlation Matrix & Heatmap**"
   ]
  },
  {
   "cell_type": "code",
   "execution_count": 272,
   "metadata": {},
   "outputs": [
    {
     "data": {
      "text/html": [
       "<div>\n",
       "<style scoped>\n",
       "    .dataframe tbody tr th:only-of-type {\n",
       "        vertical-align: middle;\n",
       "    }\n",
       "\n",
       "    .dataframe tbody tr th {\n",
       "        vertical-align: top;\n",
       "    }\n",
       "\n",
       "    .dataframe thead th {\n",
       "        text-align: right;\n",
       "    }\n",
       "</style>\n",
       "<table border=\"1\" class=\"dataframe\">\n",
       "  <thead>\n",
       "    <tr style=\"text-align: right;\">\n",
       "      <th></th>\n",
       "      <th>Attrition</th>\n",
       "      <th>Satisfaction</th>\n",
       "      <th>Age</th>\n",
       "      <th>Distance</th>\n",
       "      <th>Income</th>\n",
       "      <th>Evaluation</th>\n",
       "      <th>YearsAtCompany</th>\n",
       "    </tr>\n",
       "  </thead>\n",
       "  <tbody>\n",
       "    <tr>\n",
       "      <th>Attrition</th>\n",
       "      <td>1.000000</td>\n",
       "      <td>-0.103481</td>\n",
       "      <td>-0.159205</td>\n",
       "      <td>0.077924</td>\n",
       "      <td>-0.159840</td>\n",
       "      <td>0.002889</td>\n",
       "      <td>-0.134392</td>\n",
       "    </tr>\n",
       "    <tr>\n",
       "      <th>Satisfaction</th>\n",
       "      <td>-0.103481</td>\n",
       "      <td>1.000000</td>\n",
       "      <td>-0.004892</td>\n",
       "      <td>-0.003669</td>\n",
       "      <td>-0.007157</td>\n",
       "      <td>0.002297</td>\n",
       "      <td>-0.003803</td>\n",
       "    </tr>\n",
       "    <tr>\n",
       "      <th>Age</th>\n",
       "      <td>-0.159205</td>\n",
       "      <td>-0.004892</td>\n",
       "      <td>1.000000</td>\n",
       "      <td>-0.001686</td>\n",
       "      <td>0.497855</td>\n",
       "      <td>0.001904</td>\n",
       "      <td>0.311309</td>\n",
       "    </tr>\n",
       "    <tr>\n",
       "      <th>Distance</th>\n",
       "      <td>0.077924</td>\n",
       "      <td>-0.003669</td>\n",
       "      <td>-0.001686</td>\n",
       "      <td>1.000000</td>\n",
       "      <td>-0.017014</td>\n",
       "      <td>0.027110</td>\n",
       "      <td>0.009508</td>\n",
       "    </tr>\n",
       "    <tr>\n",
       "      <th>Income</th>\n",
       "      <td>-0.159840</td>\n",
       "      <td>-0.007157</td>\n",
       "      <td>0.497855</td>\n",
       "      <td>-0.017014</td>\n",
       "      <td>1.000000</td>\n",
       "      <td>-0.017120</td>\n",
       "      <td>0.514285</td>\n",
       "    </tr>\n",
       "    <tr>\n",
       "      <th>Evaluation</th>\n",
       "      <td>0.002889</td>\n",
       "      <td>0.002297</td>\n",
       "      <td>0.001904</td>\n",
       "      <td>0.027110</td>\n",
       "      <td>-0.017120</td>\n",
       "      <td>1.000000</td>\n",
       "      <td>0.003435</td>\n",
       "    </tr>\n",
       "    <tr>\n",
       "      <th>YearsAtCompany</th>\n",
       "      <td>-0.134392</td>\n",
       "      <td>-0.003803</td>\n",
       "      <td>0.311309</td>\n",
       "      <td>0.009508</td>\n",
       "      <td>0.514285</td>\n",
       "      <td>0.003435</td>\n",
       "      <td>1.000000</td>\n",
       "    </tr>\n",
       "  </tbody>\n",
       "</table>\n",
       "</div>"
      ],
      "text/plain": [
       "                Attrition  Satisfaction       Age  Distance    Income  \\\n",
       "Attrition        1.000000     -0.103481 -0.159205  0.077924 -0.159840   \n",
       "Satisfaction    -0.103481      1.000000 -0.004892 -0.003669 -0.007157   \n",
       "Age             -0.159205     -0.004892  1.000000 -0.001686  0.497855   \n",
       "Distance         0.077924     -0.003669 -0.001686  1.000000 -0.017014   \n",
       "Income          -0.159840     -0.007157  0.497855 -0.017014  1.000000   \n",
       "Evaluation       0.002889      0.002297  0.001904  0.027110 -0.017120   \n",
       "YearsAtCompany  -0.134392     -0.003803  0.311309  0.009508  0.514285   \n",
       "\n",
       "                Evaluation  YearsAtCompany  \n",
       "Attrition         0.002889       -0.134392  \n",
       "Satisfaction      0.002297       -0.003803  \n",
       "Age               0.001904        0.311309  \n",
       "Distance          0.027110        0.009508  \n",
       "Income           -0.017120        0.514285  \n",
       "Evaluation        1.000000        0.003435  \n",
       "YearsAtCompany    0.003435        1.000000  "
      ]
     },
     "execution_count": 272,
     "metadata": {},
     "output_type": "execute_result"
    },
    {
     "data": {
      "image/png": "[encoded data removed]",
      "text/plain": [
       "<Figure size 432x288 with 2 Axes>"
      ]
     },
     "metadata": {
      "needs_background": "light"
     },
     "output_type": "display_data"
    }
   ],
   "source": [
    "#Correlation Matrix\n",
    "corr = new_df.corr()\n",
    "corr = (corr)\n",
    "sns.heatmap(corr, \n",
    "            xticklabels=corr.columns.values,\n",
    "            yticklabels=corr.columns.values,\n",
    "           annot=True, fmt=\".2f\")\n",
    "\n",
    "corr"
   ]
  },
  {
   "cell_type": "markdown",
   "metadata": {},
   "source": [
    "Những mối tương quan đồng biến:\n",
    "- Income vs Age: **0.5**\n",
    "- Income vs YearsAtCompany: **0.51**\n",
    "- Age vs YearsAtCompany: **0.31**\n",
    "\n",
    "Nhân viên lớn tuổi thì lương cao hơn.<br>\n",
    "Thâm niên cao thì lương cao hơn.<br>\n",
    "Nhân viên lớn tuổi gắn bó với công ty hơn."
   ]
  },
  {
   "cell_type": "markdown",
   "metadata": {},
   "source": [
    "**2c. Statistical Test for Correlation**\n",
    "\n",
    "Pop1: những người ra đi<br>\n",
    "Pop2: những người ở lại\n",
    "\n",
    "Đây là 2 biến độc lập nên ta dùng **Independent Samples T-Test**\n",
    "\n",
    "**Hypothesis Testing 01:** Liệu có sự khác biệt về mức độ thỏa mãn(satisfaction) giữa những nhân viên ra đi (attrition = yes) và những nhân viên ở lại (attrition = no)?<br>\n",
    "- **Null Hypothesis (H0)**: Mức độ thỏa mãn giữa những người ra đi và những người ở lại là bằng nhau\n",
    "- **Alternate Hypothesis (H1):** Có sự khác biệt về mức độ thỏa mãn giữa những người ra đi và những người ở lại"
   ]
  },
  {
   "cell_type": "markdown",
   "metadata": {},
   "source": [
    "Chọn alpha =0.05 (với mức tin cậy 95%)"
   ]
  },
  {
   "cell_type": "code",
   "execution_count": 273,
   "metadata": {},
   "outputs": [
    {
     "data": {
      "text/plain": [
       "Ttest_indResult(statistic=-3.9862267630568273, pvalue=7.043066741731151e-05)"
      ]
     },
     "execution_count": 273,
     "metadata": {},
     "output_type": "execute_result"
    }
   ],
   "source": [
    "import scipy.stats as stats\n",
    "result = stats.ttest_ind(df[df[\"Attrition\"]==1]['Satisfaction'],\n",
    "                               df[df[\"Attrition\"]==0]['Satisfaction'])\n",
    "result"
   ]
  },
  {
   "cell_type": "code",
   "execution_count": 274,
   "metadata": {},
   "outputs": [],
   "source": [
    "alpha = 0.05\n",
    "n = len(df[df['Attrition']==1])\n",
    "degree_freedom_n = n -1\n",
    "m = len(df[df['Attrition']==0])\n",
    "degree_freedom_m= m -1\n",
    "degree_freedom_total = degree_freedom_n + degree_freedom_m\n",
    "t_critical = stats.t.ppf(1-alpha/2, degree_freedom_total) # Because it has 2 tails\n",
    "def compare_t_critical(n):\n",
    "    \"\"\"So sánh t của result và t critical rồi đưa ra kết luận\"\"\"\n",
    "    if abs(n.statistic) > t_critical:\n",
    "        print(\"Reject H0\")\n",
    "    else:\n",
    "        print(\"Reject H1. Chấp nhận H0 với mức ý nghĩa\", 1-n.pvalue)"
   ]
  },
  {
   "cell_type": "code",
   "execution_count": 275,
   "metadata": {},
   "outputs": [
    {
     "name": "stdout",
     "output_type": "stream",
     "text": [
      "Reject H0\n"
     ]
    }
   ],
   "source": [
    "compare_t_critical(result) #check"
   ]
  },
  {
   "cell_type": "markdown",
   "metadata": {},
   "source": [
    "**Kết luận:** Có sự khác biệt trong sự thỏa mãn công việc giữa người ra đi và người ở lại. Với mức tin cậy >95%"
   ]
  },
  {
   "cell_type": "markdown",
   "metadata": {},
   "source": [
    "**Hypothesis Testing 02:** Liệu có sự khác biệt về quãng đường đi làm (distance) giữa những nhân viên ra đi (attrition = yes) và những nhân viên ở lại (attrition = no)?<br>\n",
    "- **Null Hypothesis (H0)**: Quãng đường đi làm giữa những người ra đi và những người ở lại là bằng nhau.\n",
    "- **Alternate Hypothesis (H1):** Có sự khác biệt về quãng đường đi làm giữa những người ra đi và những người ở lại"
   ]
  },
  {
   "cell_type": "code",
   "execution_count": 276,
   "metadata": {},
   "outputs": [
    {
     "data": {
      "text/plain": [
       "Ttest_indResult(statistic=2.994708098265125, pvalue=0.0027930600802134266)"
      ]
     },
     "execution_count": 276,
     "metadata": {},
     "output_type": "execute_result"
    }
   ],
   "source": [
    "result = stats.ttest_ind(df[df[\"Attrition\"]==1]['Distance'],\n",
    "                               df[df[\"Attrition\"]==0]['Distance'])\n",
    "result"
   ]
  },
  {
   "cell_type": "code",
   "execution_count": 277,
   "metadata": {},
   "outputs": [
    {
     "name": "stdout",
     "output_type": "stream",
     "text": [
      "Reject H0\n"
     ]
    }
   ],
   "source": [
    "compare_t_critical(result) #check"
   ]
  },
  {
   "cell_type": "markdown",
   "metadata": {},
   "source": [
    "**Kết luận:** Có sự khác biệt về khoảng cách từ nhà đến nơi làm giữa những người ra đi và những người ở lại. Với độ tin cậy >95%"
   ]
  },
  {
   "cell_type": "markdown",
   "metadata": {},
   "source": [
    "**2d. Distribution Plots (Satisfaction - Evaluation - Income)**"
   ]
  },
  {
   "cell_type": "code",
   "execution_count": 278,
   "metadata": {},
   "outputs": [
    {
     "data": {
      "text/plain": [
       "Text(0, 0.5, 'Employee Count')"
      ]
     },
     "execution_count": 278,
     "metadata": {},
     "output_type": "execute_result"
    },
    {
     "data": {
      "image/png": "[encoded data removed]",
      "text/plain": [
       "<Figure size 1080x432 with 3 Axes>"
      ]
     },
     "metadata": {
      "needs_background": "light"
     },
     "output_type": "display_data"
    }
   ],
   "source": [
    "# Set up the matplotlib figure\n",
    "f, axes = plt.subplots(ncols=3, figsize=(15, 6))\n",
    "\n",
    "# Graph Employee Satisfaction\n",
    "sns.distplot(new_df.Satisfaction, kde=False, color=\"g\", ax=axes[0]).set_title('Phân phối độ thỏa mãn của nhân viên')\n",
    "axes[0].set_ylabel('Employee Count')\n",
    "\n",
    "# Graph Employee Evaluation\n",
    "sns.distplot(new_df.Evaluation, kde=False, color=\"r\", ax=axes[1]).set_title('Phân phối độ đánh giá của nhân viên')\n",
    "axes[1].set_ylabel('Employee Count')\n",
    "\n",
    "# Graph Employee Income per month\n",
    "sns.distplot(new_df.Income, kde=False, color=\"b\", ax=axes[2]).set_title('Phân phối tiền lương hàng tháng của nhân viên')\n",
    "axes[2].set_ylabel('Employee Count')"
   ]
  },
  {
   "cell_type": "markdown",
   "metadata": {},
   "source": [
    "Ta thấy được:\n",
    "- Hầu hết nhân viên cảm thấy thỏa mãn cao (2 cột cao bên phải)\n",
    "- Hầu hết nhân viên được đánh giá mức năng lực là 3, chỉ có một số nhỏ khoảng hơn 200 là ở mức năng lực là 4\n",
    "- Tiền lương hàng tháng hầu hết ở mức dưới 5000"
   ]
  },
  {
   "cell_type": "markdown",
   "metadata": {},
   "source": [
    "**2e. Department V.S. Attrition**\n"
   ]
  },
  {
   "cell_type": "code",
   "execution_count": 279,
   "metadata": {},
   "outputs": [
    {
     "data": {
      "text/plain": [
       "(array([0, 1, 2]), <a list of 3 Text xticklabel objects>)"
      ]
     },
     "execution_count": 279,
     "metadata": {},
     "output_type": "execute_result"
    },
    {
     "data": {
      "image/png": "[encoded data removed]",
      "text/plain": [
       "<Figure size 432x288 with 1 Axes>"
      ]
     },
     "metadata": {
      "needs_background": "light"
     },
     "output_type": "display_data"
    }
   ],
   "source": [
    "sns.countplot(x='Department', data=new_df).set_title('Phân phối nghề nghiệp của nhân viên');\n",
    " \n",
    "# Rotate x-labels\n",
    "plt.xticks(rotation=-45)"
   ]
  },
  {
   "cell_type": "markdown",
   "metadata": {},
   "source": [
    "Chủ yếu họ làm trong mảng R&D: nghiên cứu và phát triển"
   ]
  },
  {
   "cell_type": "code",
   "execution_count": 280,
   "metadata": {},
   "outputs": [
    {
     "data": {
      "image/png": "[encoded data removed]",
      "text/plain": [
       "<Figure size 1080x360 with 1 Axes>"
      ]
     },
     "metadata": {
      "needs_background": "light"
     },
     "output_type": "display_data"
    }
   ],
   "source": [
    "f, ax = plt.subplots(figsize=(15, 5))\n",
    "sns.countplot(y='Department', hue='Attrition', data=new_df).set_title('Phân phối nghề nghiệp theo Attrition');"
   ]
  },
  {
   "cell_type": "markdown",
   "metadata": {},
   "source": [
    "Những người ra đi nằm trong mảng R&D là nhiều nhất. Điều này là bình thường bởi theo phân phối nghề nghiệp nhân viên ở trên, nhân sự làm trong mảng này là nhiều nhất."
   ]
  },
  {
   "cell_type": "code",
   "execution_count": 281,
   "metadata": {},
   "outputs": [
    {
     "data": {
      "text/plain": [
       "count                        237\n",
       "unique                         3\n",
       "top       Research & Development\n",
       "freq                         133\n",
       "Name: Department, dtype: object"
      ]
     },
     "execution_count": 281,
     "metadata": {},
     "output_type": "execute_result"
    }
   ],
   "source": [
    "df[df['Attrition']== 1]['Department'].describe()"
   ]
  },
  {
   "cell_type": "markdown",
   "metadata": {},
   "source": [
    "**2f. Overtime V.S. Attrition**"
   ]
  },
  {
   "cell_type": "code",
   "execution_count": 282,
   "metadata": {},
   "outputs": [
    {
     "data": {
      "image/png": "[encoded data removed]",
      "text/plain": [
       "<Figure size 1080x360 with 1 Axes>"
      ]
     },
     "metadata": {
      "needs_background": "light"
     },
     "output_type": "display_data"
    }
   ],
   "source": [
    "f, ax = plt.subplots(figsize=(15, 5))\n",
    "sns.countplot(y=\"OverTime\", hue='Attrition', data=new_df).set_title('Phân phối làm thêm giờ theo Attrition');"
   ]
  },
  {
   "cell_type": "markdown",
   "metadata": {},
   "source": [
    "Nhìn biểu đồ ta thấy số lượng nhân viên ra đi có làm ngoài giờ thì nhiều hơn hẳn so với những người ra đi mà không làm ngoài giờ. Chưa kể xét theo tổng thể của số nhân sự làm/không làm ngoài giờ."
   ]
  },
  {
   "cell_type": "code",
   "execution_count": 283,
   "metadata": {},
   "outputs": [
    {
     "data": {
      "text/plain": [
       "count     237\n",
       "unique      2\n",
       "top       Yes\n",
       "freq      127\n",
       "Name: OverTime, dtype: object"
      ]
     },
     "execution_count": 283,
     "metadata": {},
     "output_type": "execute_result"
    }
   ],
   "source": [
    "df[df['Attrition']== 1]['OverTime'].describe()"
   ]
  },
  {
   "cell_type": "markdown",
   "metadata": {},
   "source": [
    "**2f. Gender V.S. Attrition**"
   ]
  },
  {
   "cell_type": "code",
   "execution_count": 284,
   "metadata": {},
   "outputs": [
    {
     "data": {
      "image/png": "[encoded data removed]",
      "text/plain": [
       "<Figure size 1080x360 with 1 Axes>"
      ]
     },
     "metadata": {
      "needs_background": "light"
     },
     "output_type": "display_data"
    }
   ],
   "source": [
    "f, ax = plt.subplots(figsize=(15, 5))\n",
    "sns.countplot(y=\"Gender\", hue='Attrition', data=new_df).set_title('Phân phối giới tính theo Attrition');"
   ]
  },
  {
   "cell_type": "markdown",
   "metadata": {},
   "source": [
    "Nhìn biểu đồ ta thấy nam nghỉ việc nhiều hơn nữ."
   ]
  },
  {
   "cell_type": "code",
   "execution_count": 285,
   "metadata": {},
   "outputs": [
    {
     "data": {
      "text/plain": [
       "count      237\n",
       "unique       2\n",
       "top       Male\n",
       "freq       150\n",
       "Name: Gender, dtype: object"
      ]
     },
     "execution_count": 285,
     "metadata": {},
     "output_type": "execute_result"
    }
   ],
   "source": [
    "df[df['Attrition']== 1]['Gender'].describe()"
   ]
  },
  {
   "cell_type": "markdown",
   "metadata": {},
   "source": [
    "**2g. Evaluation vs Attrition**"
   ]
  },
  {
   "cell_type": "code",
   "execution_count": 286,
   "metadata": {
    "scrolled": true
   },
   "outputs": [
    {
     "data": {
      "image/png": "[encoded data removed]",
      "text/plain": [
       "<Figure size 1080x360 with 1 Axes>"
      ]
     },
     "metadata": {
      "needs_background": "light"
     },
     "output_type": "display_data"
    }
   ],
   "source": [
    "f, ax = plt.subplots(figsize=(15, 5))\n",
    "sns.countplot(y=\"Evaluation\", hue='Attrition', data=new_df).set_title('Phân phối đánh giá năng lực theo Attrition');"
   ]
  },
  {
   "cell_type": "markdown",
   "metadata": {},
   "source": [
    "Ta nhận thấy hầu hết nhân sự ra đi ở mức đánh giá hạng 3.<br>\n",
    "Những nhân sự ở mức đánh giá hạng 4 thì ít rời đi hơn"
   ]
  },
  {
   "cell_type": "markdown",
   "metadata": {},
   "source": [
    "# III. Conclusion\n",
    "\n",
    "Qua các phần đánh giá số liệu ở trên, ta nhận thấy:<br>\n",
    "- Có sự khác biệt về độ thỏa mãn giữa người ra đi và người ở lại. (t-test)\n",
    "- Có sự khác biệt về quãng đường từ nhà đến chỗ làm giữa người ra đi và người ở lại. (t-test)\n",
    "- Nhóm ngành của nhân sự ra đi nhiều nhất là bên **R&D**: **133 người** (visualization)\n",
    "- Những nhân sự hay làm thêm giờ (overtime) thì ra đi nhiều hơn hẳn những người không làm thêm giờ. Cứ **237** người nghỉ thì **127** người làm OT(visualization)\n",
    "- Về giới tính, thì nam nghỉ nhiều hơn là nữ. Cứ **237** người nghỉ thì **150** người là nam (visualization)\n",
    "- Về đánh giá năng lực, thì hầu hết những nhân sự đánh giá mức 3 sẽ ra đi (chỉ có hai mức 3 và 4), trong khi ở mức 4 được đánh giá cao hơn sẽ ít ra đi. (visualization)\n",
    "- Về tiền lương thì có mức chênh lệch cao, min **1.009** max **20.000** mode **4.919** (data describe)\n",
    "\n",
    "Và kết luận từ một số đặc điểm tương quan sau: (Correlation Matrix & Heatmap)\n",
    "- Nhân viên lớn tuổi thì lương cao hơn.\n",
    "- Thâm niên cao thì lương cao hơn.\n",
    "- Nhân viên lớn tuổi gắn bó với công ty hơn."
   ]
  },
  {
   "cell_type": "markdown",
   "metadata": {},
   "source": [
    "Ta kết luận những nhân tố đóng vai trò trong:<br>\n",
    "Độ hụt giảm(Attrition) gồm: Satisfaction, Distance, OverTime, Gender<br>\n",
    "Độ thỏa mãn(Satisfaction) gồm:\n"
   ]
  },
  {
   "cell_type": "markdown",
   "metadata": {},
   "source": [
    "# IV. References\n",
    "[Predicting Employee Kernelover](#https://www.kaggle.com/randylaosat/predicting-employee-kernelover)<br>\n",
    "[Data Analysis - Tại sao nhân viên bỏ việc](https://viblo.asia/p/data-analysis-tai-sao-nhan-vien-bo-viec-ByEZkW6gZQ0)"
   ]
  }
 ],
 "metadata": {
  "kernelspec": {
   "display_name": "Python 3",
   "language": "python",
   "name": "python3"
  },
  "language_info": {
   "codemirror_mode": {
    "name": "ipython",
    "version": 3
   },
   "file_extension": ".py",
   "mimetype": "text/x-python",
   "name": "python",
   "nbconvert_exporter": "python",
   "pygments_lexer": "ipython3",
   "version": "3.7.3"
  }
 },
 "nbformat": 4,
 "nbformat_minor": 2
}
